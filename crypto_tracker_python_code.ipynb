{
  "nbformat": 4,
  "nbformat_minor": 0,
  "metadata": {
    "colab": {
      "provenance": [],
      "gpuType": "T4",
      "toc_visible": true,
      "mount_file_id": "1Mh1SaEYHDgil5g_BUjXS3lPNepS_2T6k",
      "authorship_tag": "ABX9TyNV8yTAm1Q1AogAJCqUIxGg",
      "include_colab_link": true
    },
    "kernelspec": {
      "name": "python3",
      "display_name": "Python 3"
    },
    "language_info": {
      "name": "python"
    },
    "accelerator": "GPU",
    "gpuClass": "standard"
  },
  "cells": [
    {
      "cell_type": "markdown",
      "metadata": {
        "id": "view-in-github",
        "colab_type": "text"
      },
      "source": [
        "<a href=\"https://colab.research.google.com/github/nakshith21/Crypto-portfolio-tracker-/blob/main/crypto_tracker_python_code.ipynb\" target=\"_parent\"><img src=\"https://colab.research.google.com/assets/colab-badge.svg\" alt=\"Open In Colab\"/></a>"
      ]
    },
    {
      "cell_type": "code",
      "source": [
        "import requests\n",
        "\n",
        "def get_portfolio_value(coins, currency):\n",
        "    url = \"https://api.coingecko.com/api/v3/simple/price\"\n",
        "    params = {\n",
        "        \"ids\": \",\".join(coins),\n",
        "        \"vs_currencies\": currency\n",
        "    }\n",
        "    response = requests.get(url, params=params)\n",
        "    prices = response.json()\n",
        "    \n",
        "    total_value = 0\n",
        "    for coin in coins:\n",
        "        if coin in prices:\n",
        "            coin_price = prices[coin][currency]\n",
        "            coin_quantity = coins[coin]\n",
        "            coin_value = coin_price * coin_quantity\n",
        "            total_value += coin_value\n",
        "    \n",
        "    return total_value\n",
        "\n",
        "# Example usage\n",
        "my_portfolio = {\n",
        "    \"bitcoin\": 2.5,\n",
        "    \"ethereum\": 5.0,\n",
        "    \"litecoin\": 10.0\n",
        "}\n",
        "\n",
        "currency = \"usd\"\n",
        "portfolio_value = get_portfolio_value(my_portfolio, currency)\n",
        "\n",
        "print(f\"Total portfolio value: {portfolio_value} {currency.upper()}\")"
      ],
      "metadata": {
        "id": "thP13rewRslY"
      },
      "execution_count": null,
      "outputs": []
    }
  ]
}